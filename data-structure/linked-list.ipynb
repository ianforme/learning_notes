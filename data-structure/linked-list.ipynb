{
 "cells": [
  {
   "cell_type": "markdown",
   "metadata": {},
   "source": [
    "# Single Linked List"
   ]
  },
  {
   "cell_type": "code",
   "execution_count": 69,
   "metadata": {
    "code_folding": [
     0
    ]
   },
   "outputs": [],
   "source": [
    "# Node Class\n",
    "class Node:\n",
    "    # initialise\n",
    "    def __init__(self, data):\n",
    "        self.data = data\n",
    "        self.next = None\n",
    "\n",
    "    def get_data(self):\n",
    "        return self.data\n",
    "\n",
    "    def get_next(self):\n",
    "        return self.next\n",
    "\n",
    "    def set_data(self, data_new):\n",
    "        self.data = data_new\n",
    "\n",
    "    def set_next(self, next_new):\n",
    "        self.next = next_new"
   ]
  },
  {
   "cell_type": "code",
   "execution_count": 318,
   "metadata": {},
   "outputs": [],
   "source": [
    "# Linked List Class\n",
    "class LinkedList:\n",
    "    \n",
    "    def __init__(self):\n",
    "        self.head = None\n",
    "        \n",
    "    def get_head(self):\n",
    "        return self.head\n",
    "    \n",
    "    def set_head(self, node):\n",
    "        self.head = node\n",
    "        \n",
    "    def traversal(self):\n",
    "        current = self.head\n",
    "        while current:\n",
    "            print(current.get_data())\n",
    "            current = current.get_next()\n",
    "            \n",
    "    def check_node(self, node): # O(n)\n",
    "        current = self.head\n",
    "        while current:\n",
    "            if current == node:\n",
    "                return True\n",
    "            current = current.get_next()\n",
    "        return False\n",
    "            \n",
    "    def insert_to_head(self, node): # O(1) operation\n",
    "        node.set_next(self.head)\n",
    "        self.head = node\n",
    "        \n",
    "    def insert_to_end(self, node): # O(n) operation\n",
    "        last_node = self.head\n",
    "        \n",
    "        if not last_node:\n",
    "            self.head = node\n",
    "            return\n",
    "        \n",
    "        while last_node.get_next():\n",
    "            last_node = last_node.get_next()\n",
    "        last_node.set_next(node)\n",
    "        \n",
    "    def insert_after(self, prev_node, node): # O(n) operation due to search\n",
    "        \n",
    "        if not self.check_node(prev_node):\n",
    "            return 'node does not exist in the linked list'\n",
    "        \n",
    "        prev_next = prev_node.get_next()\n",
    "        prev_node.set_next(node)\n",
    "        node.set_next(prev_next)\n",
    "        \n",
    "    def delete_node_by_key(self, key): # O(n)\n",
    "        prev = None\n",
    "        current = self.head\n",
    "        \n",
    "        if self.head and self.head.get_data() == key:\n",
    "            self.head = self.head.get_next()\n",
    "            return\n",
    "        \n",
    "        while current:\n",
    "            if current.get_data() == key:\n",
    "                break\n",
    "            prev = current\n",
    "            current = current.get_next()\n",
    "        \n",
    "        if current == None:\n",
    "            return 'node does not exist in the linked list'\n",
    "                \n",
    "        # combine the nodes\n",
    "        prev.set_next(current.get_next())\n",
    "        \n",
    "        # release memory for the deleted node\n",
    "        current = None\n",
    "        \n",
    "    def delete_node_by_pos(self, pos):\n",
    "        \n",
    "        count = 0\n",
    "        prev = None\n",
    "        current = self.head\n",
    "        \n",
    "        if self.head and pos == 0:\n",
    "            self.head = self.head.get_next()\n",
    "            return\n",
    "        \n",
    "        while current:\n",
    "            if count == pos:\n",
    "                break\n",
    "            \n",
    "            count += 1\n",
    "            prev = current\n",
    "            current = current.get_next()\n",
    "        \n",
    "        if current == None:\n",
    "            return 'node does not exist in the linked list'\n",
    "                \n",
    "        # combine the nodes\n",
    "        prev.set_next(current.get_next())\n",
    "        \n",
    "        # release memory for the deleted node\n",
    "        current = None\n",
    "        \n",
    "            "
   ]
  },
  {
   "cell_type": "markdown",
   "metadata": {
    "heading_collapsed": true
   },
   "source": [
    "## Create the first linked list"
   ]
  },
  {
   "cell_type": "code",
   "execution_count": 334,
   "metadata": {
    "hidden": true
   },
   "outputs": [],
   "source": [
    "llist = LinkedList()"
   ]
  },
  {
   "cell_type": "code",
   "execution_count": 335,
   "metadata": {
    "hidden": true
   },
   "outputs": [],
   "source": [
    "node1 = Node(1)\n",
    "node2 = Node(2)\n",
    "node3 = Node(3)"
   ]
  },
  {
   "cell_type": "code",
   "execution_count": 336,
   "metadata": {
    "hidden": true
   },
   "outputs": [],
   "source": [
    "# Link these nodes\n",
    "llist.set_head(node1)\n",
    "node1.set_next(node2)\n",
    "node2.set_next(node3)"
   ]
  },
  {
   "cell_type": "markdown",
   "metadata": {
    "heading_collapsed": true
   },
   "source": [
    "## Linked list traversal"
   ]
  },
  {
   "cell_type": "code",
   "execution_count": 337,
   "metadata": {
    "hidden": true
   },
   "outputs": [
    {
     "name": "stdout",
     "output_type": "stream",
     "text": [
      "1\n",
      "2\n",
      "3\n"
     ]
    }
   ],
   "source": [
    "llist.traversal()"
   ]
  },
  {
   "cell_type": "markdown",
   "metadata": {
    "heading_collapsed": true
   },
   "source": [
    "## check node existence"
   ]
  },
  {
   "cell_type": "code",
   "execution_count": 338,
   "metadata": {
    "hidden": true
   },
   "outputs": [
    {
     "data": {
      "text/plain": [
       "True"
      ]
     },
     "execution_count": 338,
     "metadata": {},
     "output_type": "execute_result"
    }
   ],
   "source": [
    "llist.check_node(node1)"
   ]
  },
  {
   "cell_type": "markdown",
   "metadata": {
    "heading_collapsed": true
   },
   "source": [
    "## Insert node to the head"
   ]
  },
  {
   "cell_type": "code",
   "execution_count": 339,
   "metadata": {
    "hidden": true
   },
   "outputs": [
    {
     "name": "stdout",
     "output_type": "stream",
     "text": [
      "0\n",
      "1\n",
      "2\n",
      "3\n"
     ]
    }
   ],
   "source": [
    "node0 = Node(0)\n",
    "llist.insert_to_head(node0)\n",
    "\n",
    "llist.traversal()"
   ]
  },
  {
   "cell_type": "markdown",
   "metadata": {
    "heading_collapsed": true
   },
   "source": [
    "## Insert node to the end"
   ]
  },
  {
   "cell_type": "code",
   "execution_count": 340,
   "metadata": {
    "hidden": true
   },
   "outputs": [
    {
     "name": "stdout",
     "output_type": "stream",
     "text": [
      "0\n",
      "1\n",
      "2\n",
      "3\n",
      "4\n"
     ]
    }
   ],
   "source": [
    "node4 = Node(4)\n",
    "llist.insert_to_end(node4)\n",
    "\n",
    "llist.traversal()"
   ]
  },
  {
   "cell_type": "markdown",
   "metadata": {
    "heading_collapsed": true
   },
   "source": [
    "## Insert node after a given node"
   ]
  },
  {
   "cell_type": "code",
   "execution_count": 341,
   "metadata": {
    "hidden": true
   },
   "outputs": [
    {
     "name": "stdout",
     "output_type": "stream",
     "text": [
      "0\n",
      "1\n",
      "2\n",
      "2.5\n",
      "3\n",
      "4\n"
     ]
    }
   ],
   "source": [
    "node5 = Node(2.5)\n",
    "llist.insert_after(node2, node5)\n",
    "\n",
    "llist.traversal()"
   ]
  },
  {
   "cell_type": "markdown",
   "metadata": {
    "heading_collapsed": true
   },
   "source": [
    "## Delete a certain node"
   ]
  },
  {
   "cell_type": "code",
   "execution_count": 342,
   "metadata": {
    "hidden": true
   },
   "outputs": [
    {
     "name": "stdout",
     "output_type": "stream",
     "text": [
      "1\n",
      "2\n",
      "2.5\n",
      "3\n",
      "4\n"
     ]
    }
   ],
   "source": [
    "llist.delete_node_by_key(0)\n",
    "llist.traversal()"
   ]
  },
  {
   "cell_type": "code",
   "execution_count": 343,
   "metadata": {
    "hidden": true
   },
   "outputs": [
    {
     "name": "stdout",
     "output_type": "stream",
     "text": [
      "1\n",
      "2\n",
      "3\n",
      "4\n"
     ]
    }
   ],
   "source": [
    "llist.delete_node_by_key(2.5)\n",
    "llist.traversal()"
   ]
  },
  {
   "cell_type": "code",
   "execution_count": 344,
   "metadata": {
    "hidden": true
   },
   "outputs": [
    {
     "name": "stdout",
     "output_type": "stream",
     "text": [
      "1\n",
      "2\n",
      "3\n"
     ]
    }
   ],
   "source": [
    "llist.delete_node_by_key(4)\n",
    "llist.traversal()"
   ]
  },
  {
   "cell_type": "markdown",
   "metadata": {
    "heading_collapsed": true
   },
   "source": [
    "## Delete a node at certain postion"
   ]
  },
  {
   "cell_type": "code",
   "execution_count": 345,
   "metadata": {
    "hidden": true
   },
   "outputs": [
    {
     "name": "stdout",
     "output_type": "stream",
     "text": [
      "2\n",
      "3\n"
     ]
    }
   ],
   "source": [
    "llist.delete_node_by_pos(0)\n",
    "llist.traversal()"
   ]
  },
  {
   "cell_type": "code",
   "execution_count": 346,
   "metadata": {
    "hidden": true
   },
   "outputs": [
    {
     "name": "stdout",
     "output_type": "stream",
     "text": [
      "2\n",
      "3\n"
     ]
    }
   ],
   "source": [
    "llist.delete_node_by_pos(5)\n",
    "llist.traversal()"
   ]
  },
  {
   "cell_type": "code",
   "execution_count": 347,
   "metadata": {
    "hidden": true
   },
   "outputs": [
    {
     "name": "stdout",
     "output_type": "stream",
     "text": [
      "2\n"
     ]
    }
   ],
   "source": [
    "llist.delete_node_by_pos(1)\n",
    "llist.traversal()"
   ]
  },
  {
   "cell_type": "markdown",
   "metadata": {},
   "source": [
    "## Nth node from the end of the linked list"
   ]
  },
  {
   "cell_type": "code",
   "execution_count": null,
   "metadata": {},
   "outputs": [],
   "source": []
  }
 ],
 "metadata": {
  "kernelspec": {
   "display_name": "Python 3",
   "language": "python",
   "name": "python3"
  },
  "language_info": {
   "codemirror_mode": {
    "name": "ipython",
    "version": 3
   },
   "file_extension": ".py",
   "mimetype": "text/x-python",
   "name": "python",
   "nbconvert_exporter": "python",
   "pygments_lexer": "ipython3",
   "version": "3.6.6"
  },
  "toc": {
   "base_numbering": 1,
   "nav_menu": {},
   "number_sections": true,
   "sideBar": true,
   "skip_h1_title": false,
   "title_cell": "Table of Contents",
   "title_sidebar": "Contents",
   "toc_cell": false,
   "toc_position": {},
   "toc_section_display": true,
   "toc_window_display": false
  }
 },
 "nbformat": 4,
 "nbformat_minor": 2
}
