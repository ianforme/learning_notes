{
 "cells": [
  {
   "cell_type": "markdown",
   "metadata": {
    "heading_collapsed": true
   },
   "source": [
    "# Single Linked List"
   ]
  },
  {
   "cell_type": "code",
   "execution_count": 3,
   "metadata": {
    "code_folding": [],
    "hidden": true
   },
   "outputs": [],
   "source": [
    "# Node Class\n",
    "class Node:\n",
    "    # initialise\n",
    "    def __init__(self, data):\n",
    "        self.data = data\n",
    "        self.next = None\n",
    "\n",
    "    def get_data(self):\n",
    "        return self.data\n",
    "\n",
    "    def get_next(self):\n",
    "        return self.next\n",
    "\n",
    "    def set_data(self, data_new):\n",
    "        self.data = data_new\n",
    "\n",
    "    def set_next(self, next_new):\n",
    "        self.next = next_new"
   ]
  },
  {
   "cell_type": "code",
   "execution_count": 82,
   "metadata": {
    "hidden": true
   },
   "outputs": [],
   "source": [
    "# Linked List Class\n",
    "class LinkedList:\n",
    "    \n",
    "    def __init__(self):\n",
    "        self.head = None\n",
    "        \n",
    "    def get_head(self):\n",
    "        return self.head\n",
    "    \n",
    "    def set_head(self, node):\n",
    "        self.head = node\n",
    "        \n",
    "    def traversal(self):\n",
    "        current = self.head\n",
    "        while current:\n",
    "            print(current.get_data())\n",
    "            current = current.get_next()\n",
    "            \n",
    "    def check_node(self, node): # O(n)\n",
    "        current = self.head\n",
    "        while current:\n",
    "            if current == node:\n",
    "                return True\n",
    "            current = current.get_next()\n",
    "        return False\n",
    "            \n",
    "    def insert_to_head(self, node): # O(1) operation\n",
    "        node.set_next(self.head)\n",
    "        self.head = node\n",
    "        \n",
    "    def insert_to_end(self, node): # O(n) operation\n",
    "        last_node = self.head\n",
    "        \n",
    "        if not last_node:\n",
    "            self.head = node\n",
    "            return\n",
    "        \n",
    "        while last_node.get_next():\n",
    "            last_node = last_node.get_next()\n",
    "            \n",
    "        last_node.set_next(node)\n",
    "        \n",
    "    def insert_after(self, prev_node, node): # O(n) operation due to search\n",
    "        \n",
    "        if not self.check_node(prev_node):\n",
    "            return 'node does not exist in the linked list'\n",
    "        \n",
    "        prev_next = prev_node.get_next()\n",
    "        prev_node.set_next(node)\n",
    "        node.set_next(prev_next)\n",
    "        \n",
    "    def delete_node_by_key(self, key): # O(n)\n",
    "        prev = None\n",
    "        current = self.head\n",
    "        \n",
    "        if self.head and self.head.get_data() == key:\n",
    "            self.head = self.head.get_next()\n",
    "            return\n",
    "        \n",
    "        while current:\n",
    "            if current.get_data() == key:\n",
    "                break\n",
    "            prev = current\n",
    "            current = current.get_next()\n",
    "        \n",
    "        if current == None:\n",
    "            return 'node does not exist in the linked list'\n",
    "                \n",
    "        # combine the nodes\n",
    "        prev.set_next(current.get_next())\n",
    "        \n",
    "        # release memory for the deleted node\n",
    "        current = None\n",
    "        \n",
    "    def delete_node_by_pos(self, pos):\n",
    "        \n",
    "        count = 0\n",
    "        prev = None\n",
    "        current = self.head\n",
    "        \n",
    "        if self.head and pos == 0:\n",
    "            self.head = self.head.get_next()\n",
    "            return\n",
    "        \n",
    "        while current:\n",
    "            if count == pos:\n",
    "                break\n",
    "            \n",
    "            count += 1\n",
    "            prev = current\n",
    "            current = current.get_next()\n",
    "        \n",
    "        if current == None:\n",
    "            return 'node does not exist in the linked list'\n",
    "                \n",
    "        # combine the nodes\n",
    "        prev.set_next(current.get_next())\n",
    "        \n",
    "        # release memory for the deleted node\n",
    "        current = None\n",
    "    \n",
    "    def return_middle_node(self):\n",
    "        first = self.head\n",
    "        second = self.head\n",
    "        \n",
    "        def _get_next_two(node):\n",
    "            try:\n",
    "                res_node = node.get_next().get_next()\n",
    "                return res_node\n",
    "            except:\n",
    "                return False\n",
    "            \n",
    "        while _get_next_two(first):\n",
    "            first = first.get_next().get_next()\n",
    "            second = second.get_next()\n",
    "            \n",
    "        \n",
    "        return second\n",
    "        \n",
    "    def check_loop_naive(self):\n",
    "        check_l = []\n",
    "        current = self.head\n",
    "        while current:\n",
    "            if current in check_l:\n",
    "                return True\n",
    "            \n",
    "            check_l.append(current)\n",
    "            current = current.get_next()\n",
    "            \n",
    "        return False\n",
    "        \n",
    "        \n",
    "            "
   ]
  },
  {
   "cell_type": "markdown",
   "metadata": {
    "heading_collapsed": true,
    "hidden": true
   },
   "source": [
    "## Create the first linked list"
   ]
  },
  {
   "cell_type": "code",
   "execution_count": 61,
   "metadata": {
    "hidden": true
   },
   "outputs": [],
   "source": [
    "llist = LinkedList()"
   ]
  },
  {
   "cell_type": "code",
   "execution_count": 62,
   "metadata": {
    "hidden": true
   },
   "outputs": [],
   "source": [
    "node1 = Node(1)\n",
    "node2 = Node(2)\n",
    "node3 = Node(3)"
   ]
  },
  {
   "cell_type": "code",
   "execution_count": 63,
   "metadata": {
    "hidden": true
   },
   "outputs": [],
   "source": [
    "# Link these nodes\n",
    "llist.set_head(node1)\n",
    "node1.set_next(node2)\n",
    "node2.set_next(node3)"
   ]
  },
  {
   "cell_type": "markdown",
   "metadata": {
    "heading_collapsed": true,
    "hidden": true
   },
   "source": [
    "## Linked list traversal"
   ]
  },
  {
   "cell_type": "code",
   "execution_count": 64,
   "metadata": {
    "hidden": true
   },
   "outputs": [
    {
     "name": "stdout",
     "output_type": "stream",
     "text": [
      "1\n",
      "2\n",
      "3\n"
     ]
    }
   ],
   "source": [
    "llist.traversal()"
   ]
  },
  {
   "cell_type": "markdown",
   "metadata": {
    "heading_collapsed": true,
    "hidden": true
   },
   "source": [
    "## check node existence"
   ]
  },
  {
   "cell_type": "code",
   "execution_count": 65,
   "metadata": {
    "hidden": true
   },
   "outputs": [
    {
     "data": {
      "text/plain": [
       "True"
      ]
     },
     "execution_count": 65,
     "metadata": {},
     "output_type": "execute_result"
    }
   ],
   "source": [
    "llist.check_node(node1)"
   ]
  },
  {
   "cell_type": "markdown",
   "metadata": {
    "heading_collapsed": true,
    "hidden": true
   },
   "source": [
    "## Insert node to the head"
   ]
  },
  {
   "cell_type": "code",
   "execution_count": 66,
   "metadata": {
    "hidden": true
   },
   "outputs": [
    {
     "name": "stdout",
     "output_type": "stream",
     "text": [
      "0\n",
      "1\n",
      "2\n",
      "3\n"
     ]
    }
   ],
   "source": [
    "node0 = Node(0)\n",
    "llist.insert_to_head(node0)\n",
    "\n",
    "llist.traversal()"
   ]
  },
  {
   "cell_type": "markdown",
   "metadata": {
    "heading_collapsed": true,
    "hidden": true
   },
   "source": [
    "## Insert node to the end"
   ]
  },
  {
   "cell_type": "code",
   "execution_count": 67,
   "metadata": {
    "hidden": true
   },
   "outputs": [
    {
     "name": "stdout",
     "output_type": "stream",
     "text": [
      "0\n",
      "1\n",
      "2\n",
      "3\n",
      "4\n"
     ]
    }
   ],
   "source": [
    "node4 = Node(4)\n",
    "llist.insert_to_end(node4)\n",
    "\n",
    "llist.traversal()"
   ]
  },
  {
   "cell_type": "markdown",
   "metadata": {
    "heading_collapsed": true,
    "hidden": true
   },
   "source": [
    "## Insert node after a given node"
   ]
  },
  {
   "cell_type": "code",
   "execution_count": 68,
   "metadata": {
    "hidden": true
   },
   "outputs": [
    {
     "name": "stdout",
     "output_type": "stream",
     "text": [
      "0\n",
      "1\n",
      "2\n",
      "2.5\n",
      "3\n",
      "4\n"
     ]
    }
   ],
   "source": [
    "node5 = Node(2.5)\n",
    "llist.insert_after(node2, node5)\n",
    "\n",
    "llist.traversal()"
   ]
  },
  {
   "cell_type": "markdown",
   "metadata": {
    "heading_collapsed": true,
    "hidden": true
   },
   "source": [
    "## Delete a certain node"
   ]
  },
  {
   "cell_type": "code",
   "execution_count": 69,
   "metadata": {
    "hidden": true
   },
   "outputs": [
    {
     "name": "stdout",
     "output_type": "stream",
     "text": [
      "1\n",
      "2\n",
      "2.5\n",
      "3\n",
      "4\n"
     ]
    }
   ],
   "source": [
    "llist.delete_node_by_key(0)\n",
    "llist.traversal()"
   ]
  },
  {
   "cell_type": "code",
   "execution_count": 70,
   "metadata": {
    "hidden": true
   },
   "outputs": [
    {
     "name": "stdout",
     "output_type": "stream",
     "text": [
      "1\n",
      "2\n",
      "3\n",
      "4\n"
     ]
    }
   ],
   "source": [
    "llist.delete_node_by_key(2.5)\n",
    "llist.traversal()"
   ]
  },
  {
   "cell_type": "code",
   "execution_count": 71,
   "metadata": {
    "hidden": true
   },
   "outputs": [
    {
     "name": "stdout",
     "output_type": "stream",
     "text": [
      "1\n",
      "2\n",
      "3\n"
     ]
    }
   ],
   "source": [
    "llist.delete_node_by_key(4)\n",
    "llist.traversal()"
   ]
  },
  {
   "cell_type": "markdown",
   "metadata": {
    "heading_collapsed": true,
    "hidden": true
   },
   "source": [
    "## Delete a node at certain postion"
   ]
  },
  {
   "cell_type": "code",
   "execution_count": 72,
   "metadata": {
    "hidden": true
   },
   "outputs": [
    {
     "name": "stdout",
     "output_type": "stream",
     "text": [
      "2\n",
      "3\n"
     ]
    }
   ],
   "source": [
    "llist.delete_node_by_pos(0)\n",
    "llist.traversal()"
   ]
  },
  {
   "cell_type": "code",
   "execution_count": 73,
   "metadata": {
    "hidden": true
   },
   "outputs": [
    {
     "name": "stdout",
     "output_type": "stream",
     "text": [
      "2\n",
      "3\n"
     ]
    }
   ],
   "source": [
    "llist.delete_node_by_pos(5)\n",
    "llist.traversal()"
   ]
  },
  {
   "cell_type": "code",
   "execution_count": 74,
   "metadata": {
    "hidden": true
   },
   "outputs": [
    {
     "name": "stdout",
     "output_type": "stream",
     "text": [
      "2\n"
     ]
    }
   ],
   "source": [
    "llist.delete_node_by_pos(1)\n",
    "llist.traversal()"
   ]
  },
  {
   "cell_type": "markdown",
   "metadata": {
    "heading_collapsed": true,
    "hidden": true
   },
   "source": [
    "## Find middle node"
   ]
  },
  {
   "cell_type": "code",
   "execution_count": 75,
   "metadata": {
    "hidden": true
   },
   "outputs": [
    {
     "data": {
      "text/plain": [
       "4"
      ]
     },
     "execution_count": 75,
     "metadata": {},
     "output_type": "execute_result"
    }
   ],
   "source": [
    "llist.insert_to_end(Node(3))\n",
    "llist.insert_to_end(Node(4))\n",
    "llist.insert_to_end(Node(5))\n",
    "llist.insert_to_end(Node(6))\n",
    "llist.insert_to_end(Node(7))\n",
    "llist.return_middle_node().get_data()"
   ]
  },
  {
   "cell_type": "code",
   "execution_count": 76,
   "metadata": {
    "hidden": true
   },
   "outputs": [
    {
     "name": "stdout",
     "output_type": "stream",
     "text": [
      "2\n",
      "3\n",
      "4\n",
      "5\n",
      "6\n",
      "7\n"
     ]
    }
   ],
   "source": [
    "llist.traversal()"
   ]
  },
  {
   "cell_type": "code",
   "execution_count": 77,
   "metadata": {
    "hidden": true
   },
   "outputs": [],
   "source": [
    "LinkedList().traversal()"
   ]
  },
  {
   "cell_type": "markdown",
   "metadata": {
    "hidden": true
   },
   "source": [
    "## Detect loop in the linked list"
   ]
  },
  {
   "cell_type": "code",
   "execution_count": 83,
   "metadata": {
    "hidden": true
   },
   "outputs": [],
   "source": [
    "llist = LinkedList()\n",
    "node1 = Node(1)\n",
    "node2 = Node(2)\n",
    "node3 = Node(3)\n",
    "node4 = Node(4)\n",
    "node5 = Node(5)\n",
    "\n",
    "node1.set_next(node2)\n",
    "node2.set_next(node3)\n",
    "node3.set_next(node4)\n",
    "node4.set_next(node5)\n",
    "node5.set_next(node3) # where loop happens\n",
    "\n",
    "llist.set_head(node1)"
   ]
  },
  {
   "cell_type": "code",
   "execution_count": 85,
   "metadata": {
    "hidden": true
   },
   "outputs": [],
   "source": [
    "llist2 = LinkedList()"
   ]
  },
  {
   "cell_type": "code",
   "execution_count": 87,
   "metadata": {
    "hidden": true
   },
   "outputs": [],
   "source": [
    "llist3 = LinkedList()\n",
    "\n",
    "llist3.set_head(Node(1))"
   ]
  },
  {
   "cell_type": "code",
   "execution_count": 89,
   "metadata": {
    "hidden": true
   },
   "outputs": [],
   "source": [
    "llist4 = LinkedList()\n",
    "llist4.set_head(Node(1))\n",
    "llist4.insert_to_end(Node(2))"
   ]
  },
  {
   "cell_type": "code",
   "execution_count": 84,
   "metadata": {
    "hidden": true
   },
   "outputs": [
    {
     "data": {
      "text/plain": [
       "True"
      ]
     },
     "execution_count": 84,
     "metadata": {},
     "output_type": "execute_result"
    }
   ],
   "source": [
    "llist.check_loop_naive()"
   ]
  },
  {
   "cell_type": "code",
   "execution_count": 86,
   "metadata": {
    "hidden": true
   },
   "outputs": [
    {
     "data": {
      "text/plain": [
       "False"
      ]
     },
     "execution_count": 86,
     "metadata": {},
     "output_type": "execute_result"
    }
   ],
   "source": [
    "llist2.check_loop_naive()"
   ]
  },
  {
   "cell_type": "code",
   "execution_count": 88,
   "metadata": {
    "hidden": true
   },
   "outputs": [
    {
     "data": {
      "text/plain": [
       "False"
      ]
     },
     "execution_count": 88,
     "metadata": {},
     "output_type": "execute_result"
    }
   ],
   "source": [
    "llist3.check_loop_naive()"
   ]
  },
  {
   "cell_type": "code",
   "execution_count": 90,
   "metadata": {
    "hidden": true
   },
   "outputs": [
    {
     "data": {
      "text/plain": [
       "False"
      ]
     },
     "execution_count": 90,
     "metadata": {},
     "output_type": "execute_result"
    }
   ],
   "source": [
    "llist4.check_loop_naive()"
   ]
  },
  {
   "cell_type": "markdown",
   "metadata": {
    "heading_collapsed": true
   },
   "source": [
    "# Double Linked List"
   ]
  },
  {
   "cell_type": "code",
   "execution_count": 109,
   "metadata": {
    "hidden": true
   },
   "outputs": [],
   "source": [
    "class Node:\n",
    "    def __init__(self, data):\n",
    "        self.data = data\n",
    "        self.prev = None\n",
    "        self.next = None"
   ]
  },
  {
   "cell_type": "code",
   "execution_count": 343,
   "metadata": {
    "hidden": true
   },
   "outputs": [],
   "source": [
    "class DblLinkedList:\n",
    "    def __init__(self):\n",
    "        self.head = None\n",
    "        \n",
    "    def traverse(self):\n",
    "        current = self.head\n",
    "        \n",
    "        while current:\n",
    "            print(current.data)\n",
    "            current = current.next\n",
    "            \n",
    "    def insert_head(self, node):\n",
    "        \n",
    "        if self.head == None:\n",
    "            self.head = node\n",
    "            return\n",
    "        \n",
    "        self.head.prev = node\n",
    "        node.next = self.head\n",
    "        self.head = node\n",
    "        \n",
    "    def insert_end(self, node):\n",
    "        \n",
    "        if self.head == None:\n",
    "            self.head = node\n",
    "            return\n",
    "        \n",
    "        end = self.head\n",
    "        while end.next:\n",
    "            end = end.next\n",
    "        \n",
    "        node.prev = end\n",
    "        end.next = node\n",
    "    \n",
    "    def insert_after(self, cur_node, node):\n",
    "        \n",
    "        if cur_node.next == None:\n",
    "            cur_node.next = node\n",
    "            node.prev = cur_node\n",
    "            return\n",
    "        \n",
    "        next_node = cur_node.next\n",
    "        \n",
    "        node.prev = cur_node\n",
    "        cur_node.next = node\n",
    "        \n",
    "        node.next = next_node\n",
    "        next_node.prev = node\n",
    "        \n",
    "    def insert_before(self, cur_node, node):\n",
    "        \n",
    "        if cur_node.prev == None:\n",
    "            node.next = cur_node,\n",
    "            cur_node.prev = node\n",
    "            return\n",
    "        \n",
    "        prev_node = cur_node.prev\n",
    "        \n",
    "        prev_node.next = node\n",
    "        node.prev = prev_node\n",
    "        \n",
    "        node.next = cur_node\n",
    "        cur_node.prev = node\n",
    "        \n",
    "    def delete_by_key(self, key):\n",
    "        if not self.head:\n",
    "            return 'no element in dll'\n",
    "        \n",
    "        elif self.head.data == key:\n",
    "            del self.head\n",
    "            self.head = None            \n",
    "            return\n",
    "        \n",
    "        curr = self.head\n",
    "        prev = curr.prev\n",
    "        next = curr.next\n",
    "        \n",
    "        while curr:\n",
    "            if curr.data == key:\n",
    "                break\n",
    "            \n",
    "            prev = curr\n",
    "            curr = curr.next \n",
    "            \n",
    "            if curr:\n",
    "                next = curr.next\n",
    "            else:\n",
    "                next = None\n",
    "                \n",
    "        if not curr:\n",
    "            return \"the element not in the queue\"\n",
    "        \n",
    "        \n",
    "        prev.next = next\n",
    "        if next:\n",
    "            next.prev = prev\n",
    "        \n",
    "        del curr\n",
    "        \n",
    "        return"
   ]
  },
  {
   "cell_type": "code",
   "execution_count": 344,
   "metadata": {
    "hidden": true
   },
   "outputs": [
    {
     "name": "stdout",
     "output_type": "stream",
     "text": [
      "1\n",
      "2\n",
      "3\n"
     ]
    }
   ],
   "source": [
    "dll = DblLinkedList()\n",
    "\n",
    "node1 = Node(1)\n",
    "node2 = Node(2)\n",
    "node3 = Node(3)\n",
    "\n",
    "node1.next = node2\n",
    "node2.prev = node1\n",
    "node2.next = node3\n",
    "node3.prev = node2\n",
    "\n",
    "dll.head = node1\n",
    "\n",
    "dll.traverse()"
   ]
  },
  {
   "cell_type": "code",
   "execution_count": 345,
   "metadata": {
    "hidden": true
   },
   "outputs": [
    {
     "name": "stdout",
     "output_type": "stream",
     "text": [
      "0\n",
      "1\n",
      "2\n",
      "3\n"
     ]
    }
   ],
   "source": [
    "dll.insert_head(Node(0))\n",
    "dll.traverse()"
   ]
  },
  {
   "cell_type": "code",
   "execution_count": 346,
   "metadata": {
    "hidden": true
   },
   "outputs": [
    {
     "name": "stdout",
     "output_type": "stream",
     "text": [
      "0\n",
      "1\n",
      "2\n",
      "3\n",
      "4\n"
     ]
    }
   ],
   "source": [
    "dll.insert_end(Node(4))\n",
    "dll.traverse()"
   ]
  },
  {
   "cell_type": "code",
   "execution_count": 347,
   "metadata": {
    "hidden": true
   },
   "outputs": [
    {
     "name": "stdout",
     "output_type": "stream",
     "text": [
      "0\n",
      "1\n",
      "2\n",
      "2.5\n",
      "3\n",
      "4\n"
     ]
    }
   ],
   "source": [
    "dll.insert_after(node2, Node(2.5))\n",
    "dll.traverse()"
   ]
  },
  {
   "cell_type": "code",
   "execution_count": 348,
   "metadata": {
    "hidden": true
   },
   "outputs": [
    {
     "name": "stdout",
     "output_type": "stream",
     "text": [
      "0\n",
      "1\n",
      "1.5\n",
      "2\n",
      "2.5\n",
      "3\n",
      "4\n"
     ]
    }
   ],
   "source": [
    "dll.insert_before(node2, Node(1.5))\n",
    "dll.traverse()"
   ]
  },
  {
   "cell_type": "code",
   "execution_count": 356,
   "metadata": {
    "hidden": true
   },
   "outputs": [],
   "source": [
    "dll.delete_by_key(2.5)\n",
    "dll.traverse()"
   ]
  },
  {
   "cell_type": "markdown",
   "metadata": {
    "heading_collapsed": true
   },
   "source": [
    "# Circular Linked List"
   ]
  },
  {
   "cell_type": "code",
   "execution_count": 371,
   "metadata": {
    "hidden": true
   },
   "outputs": [],
   "source": [
    "import gc"
   ]
  },
  {
   "cell_type": "code",
   "execution_count": 388,
   "metadata": {
    "hidden": true
   },
   "outputs": [],
   "source": [
    "class Node:\n",
    "    def __init__(self, data):\n",
    "        self.data = data\n",
    "        self.next = None\n",
    "        \n",
    "class CircularLinkedList:\n",
    "    def __init__(self):\n",
    "        self.front = None\n",
    "        self.rear = None\n",
    "        \n",
    "    def traverse(self):\n",
    "        curr = self.front\n",
    "        \n",
    "        if not curr:\n",
    "            return\n",
    "        \n",
    "        if self.front == self.rear:\n",
    "            print(self.front.data)\n",
    "            return\n",
    "        \n",
    "        while True:\n",
    "            print(curr.data)\n",
    "            if curr.next == self.front:\n",
    "                break\n",
    "            curr = curr.next\n",
    "            \n",
    "    def enqueue(self, node):\n",
    "        if not self.front:\n",
    "            self.front = node\n",
    "            self.rear = node\n",
    "            return\n",
    "        \n",
    "        self.rear.next = node\n",
    "        node.next = self.front\n",
    "        self.rear = node\n",
    "        \n",
    "    def dequeue(self):\n",
    "        if not self.front:\n",
    "            return\n",
    "        \n",
    "        print(self.front.data)\n",
    "        \n",
    "        if self.front == self.rear:    \n",
    "            self.front = None\n",
    "            self.rear = None\n",
    "            gc.collect()\n",
    "            return\n",
    "        \n",
    "        self.rear.next = self.front.next\n",
    "        self.front = self.front.next\n",
    "        gc.collect()"
   ]
  },
  {
   "cell_type": "code",
   "execution_count": 389,
   "metadata": {
    "hidden": true
   },
   "outputs": [],
   "source": [
    "node1 = Node(1)\n",
    "node2 = Node(2)\n",
    "node3 = Node(3)\n",
    "\n",
    "node1.next = node2\n",
    "node2.next = node3\n",
    "node3.next = node1\n",
    "\n",
    "cll = CircularLinkedList()\n",
    "cll.front = node1\n",
    "cll.rear = node3\n"
   ]
  },
  {
   "cell_type": "code",
   "execution_count": 390,
   "metadata": {
    "hidden": true
   },
   "outputs": [
    {
     "name": "stdout",
     "output_type": "stream",
     "text": [
      "1\n",
      "2\n",
      "3\n"
     ]
    }
   ],
   "source": [
    "cll.traverse()"
   ]
  },
  {
   "cell_type": "code",
   "execution_count": 391,
   "metadata": {
    "hidden": true
   },
   "outputs": [
    {
     "name": "stdout",
     "output_type": "stream",
     "text": [
      "1\n",
      "2\n",
      "3\n",
      "4\n"
     ]
    }
   ],
   "source": [
    "node4 = Node(4)\n",
    "cll.enqueue(node4)\n",
    "cll.traverse()"
   ]
  },
  {
   "cell_type": "code",
   "execution_count": 396,
   "metadata": {
    "hidden": true
   },
   "outputs": [
    {
     "name": "stdout",
     "output_type": "stream",
     "text": [
      "--\n"
     ]
    }
   ],
   "source": [
    "cll.dequeue()\n",
    "print(\"--\")\n",
    "cll.traverse()"
   ]
  },
  {
   "cell_type": "code",
   "execution_count": null,
   "metadata": {
    "hidden": true
   },
   "outputs": [],
   "source": []
  },
  {
   "cell_type": "code",
   "execution_count": null,
   "metadata": {
    "hidden": true
   },
   "outputs": [],
   "source": []
  }
 ],
 "metadata": {
  "kernelspec": {
   "display_name": "Python 3",
   "language": "python",
   "name": "python3"
  },
  "language_info": {
   "codemirror_mode": {
    "name": "ipython",
    "version": 3
   },
   "file_extension": ".py",
   "mimetype": "text/x-python",
   "name": "python",
   "nbconvert_exporter": "python",
   "pygments_lexer": "ipython3",
   "version": "3.6.6"
  },
  "toc": {
   "base_numbering": 1,
   "nav_menu": {},
   "number_sections": true,
   "sideBar": true,
   "skip_h1_title": false,
   "title_cell": "Table of Contents",
   "title_sidebar": "Contents",
   "toc_cell": false,
   "toc_position": {},
   "toc_section_display": true,
   "toc_window_display": false
  }
 },
 "nbformat": 4,
 "nbformat_minor": 2
}
