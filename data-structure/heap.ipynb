{
 "cells": [
  {
   "cell_type": "markdown",
   "metadata": {},
   "source": [
    "Heap can be min / max heaps\n",
    "\n",
    "binary heap is complete tree, or the last level is left most complete at least, this makes it can be stored into an array / list\n",
    "\n",
    "- root: array[0]\n",
    "- for i the node:\n",
    "    - array[(i-1)/2] returns parent node\n",
    "    - array[(2*i)+1] returns left child node\n",
    "    - array[(2*i)+2] returns right child node"
   ]
  },
  {
   "cell_type": "code",
   "execution_count": 31,
   "metadata": {},
   "outputs": [],
   "source": [
    "class MinHeap:\n",
    "    def __init__(self):\n",
    "        self.heap = []\n",
    "        \n",
    "#     def get_root(self):\n",
    "#         return self.heap[0]\n",
    "    \n",
    "#     def get_parent(self, i):\n",
    "        \n",
    "#         if i == 0:\n",
    "#             return None\n",
    "#         return self.heap[(i-1)//2]\n",
    "    \n",
    "#     def get_left_child(self, i):\n",
    "#         try:\n",
    "#             return self.heap[(i*2) + 1]\n",
    "#         except:\n",
    "#             return None\n",
    "    \n",
    "#     def get_right_child(self, i):\n",
    "#         try:\n",
    "#             return self.heap[(i*2) + 2]\n",
    "#         except:\n",
    "#             return None\n",
    "        \n",
    "        \n",
    "    def get_min(self):\n",
    "        return self.heap[0]\n",
    "    \n",
    "    "
   ]
  },
  {
   "cell_type": "code",
   "execution_count": 32,
   "metadata": {},
   "outputs": [],
   "source": [
    "heap = MinHeap()\n",
    "heap.heap = [10, 20, 30, 40, 70, 90, 35, 45, 50]"
   ]
  },
  {
   "cell_type": "code",
   "execution_count": 33,
   "metadata": {},
   "outputs": [
    {
     "data": {
      "text/plain": [
       "10"
      ]
     },
     "execution_count": 33,
     "metadata": {},
     "output_type": "execute_result"
    }
   ],
   "source": [
    "heap.get_min()"
   ]
  },
  {
   "cell_type": "code",
   "execution_count": null,
   "metadata": {},
   "outputs": [],
   "source": []
  }
 ],
 "metadata": {
  "kernelspec": {
   "display_name": "Python 3",
   "language": "python",
   "name": "python3"
  },
  "language_info": {
   "codemirror_mode": {
    "name": "ipython",
    "version": 3
   },
   "file_extension": ".py",
   "mimetype": "text/x-python",
   "name": "python",
   "nbconvert_exporter": "python",
   "pygments_lexer": "ipython3",
   "version": "3.6.6"
  },
  "toc": {
   "base_numbering": 1,
   "nav_menu": {},
   "number_sections": true,
   "sideBar": true,
   "skip_h1_title": false,
   "title_cell": "Table of Contents",
   "title_sidebar": "Contents",
   "toc_cell": false,
   "toc_position": {},
   "toc_section_display": true,
   "toc_window_display": false
  }
 },
 "nbformat": 4,
 "nbformat_minor": 2
}
