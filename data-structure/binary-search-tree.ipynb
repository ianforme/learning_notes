{
 "cells": [
  {
   "cell_type": "markdown",
   "metadata": {
    "collapsed": true
   },
   "source": [
    "BST is a node based data structure\n",
    "for each node:\n",
    "- left node are smaller than current node\n",
    "- right node are larger than current node\n",
    "- no duplicates in the node\n",
    "- each sub-tree is also a binary search tree\n",
    "    \n",
    "this scripts covers:\n",
    "- formulation\n",
    "- insert\n",
    "- search\n",
    "- inorder traverse\n",
    "- delete\n",
    "- find min\n",
    "- find max"
   ]
  },
  {
   "cell_type": "code",
   "execution_count": 136,
   "metadata": {
    "collapsed": true
   },
   "outputs": [],
   "source": [
    "class node:\n",
    "    def __init__(self, val):\n",
    "        self.val = val\n",
    "        self.left = None\n",
    "        self.right = None"
   ]
  },
  {
   "cell_type": "code",
   "execution_count": 137,
   "metadata": {
    "collapsed": true
   },
   "outputs": [],
   "source": [
    "node8 = node(8) # root\n",
    "\n",
    "node1 = node(1)\n",
    "node3 = node(3)\n",
    "node6 = node(6)\n",
    "node4 = node(4)\n",
    "node7 = node(7)\n",
    "node10 = node(10)\n",
    "node14 = node(14)\n",
    "node13 = node(13)\n",
    "\n",
    "root = node8\n",
    "leaves = [node1, node3, node6, node4, node7, node10, node14, node13]"
   ]
  },
  {
   "cell_type": "code",
   "execution_count": 138,
   "metadata": {
    "collapsed": true
   },
   "outputs": [],
   "source": [
    "def insert_node(root, key_node):\n",
    "    if key_node.val > root.val:\n",
    "        if root.right is None:\n",
    "            root.right = key_node\n",
    "        else:\n",
    "            insert_node(root.right, key_node)\n",
    "    else:\n",
    "        if root.left is None:\n",
    "            root.left = key_node\n",
    "        else:\n",
    "            insert_node(root.left, key_node)"
   ]
  },
  {
   "cell_type": "code",
   "execution_count": 139,
   "metadata": {},
   "outputs": [],
   "source": [
    "for i in leaves:\n",
    "    insert_node(root, i)"
   ]
  },
  {
   "cell_type": "markdown",
   "metadata": {},
   "source": [
    "structure\n",
    "\n",
    "        8\n",
    "     1    10\n",
    "      3      14\n",
    "       6  13\n",
    "      4 7"
   ]
  },
  {
   "cell_type": "code",
   "execution_count": 140,
   "metadata": {
    "collapsed": true
   },
   "outputs": [],
   "source": [
    "def inorder_traverse(root):\n",
    "    if root:\n",
    "        inorder_traverse(root.left)\n",
    "        print(root.val)\n",
    "        inorder_traverse(root.right)"
   ]
  },
  {
   "cell_type": "code",
   "execution_count": 141,
   "metadata": {},
   "outputs": [
    {
     "name": "stdout",
     "output_type": "stream",
     "text": [
      "1\n",
      "3\n",
      "4\n",
      "6\n",
      "7\n",
      "8\n",
      "10\n",
      "13\n",
      "14\n"
     ]
    }
   ],
   "source": [
    "inorder_traverse(root)"
   ]
  },
  {
   "cell_type": "code",
   "execution_count": 142,
   "metadata": {
    "collapsed": true
   },
   "outputs": [],
   "source": [
    "def search_key(root, key):\n",
    "    if not root:\n",
    "        return False\n",
    "    if root.val == key:\n",
    "        return True\n",
    "\n",
    "    if key > root.val:\n",
    "        return search_key(root.right, key)\n",
    "    else:\n",
    "        return search_key(root.left, key)"
   ]
  },
  {
   "cell_type": "code",
   "execution_count": 143,
   "metadata": {},
   "outputs": [
    {
     "name": "stdout",
     "output_type": "stream",
     "text": [
      "False\n",
      "True\n",
      "False\n",
      "True\n"
     ]
    }
   ],
   "source": [
    "print(search_key(root, -1))\n",
    "print(search_key(root, 4))\n",
    "print(search_key(root, 9))\n",
    "print(search_key(root, 14))"
   ]
  },
  {
   "cell_type": "code",
   "execution_count": 144,
   "metadata": {
    "collapsed": true
   },
   "outputs": [],
   "source": [
    "def find_min(root):\n",
    "    while root.left:\n",
    "        root = root.left\n",
    "    return root.val\n",
    "    \n",
    "def find_max(root):\n",
    "    while root.right:\n",
    "        root = root.right\n",
    "    return root.val"
   ]
  },
  {
   "cell_type": "code",
   "execution_count": 145,
   "metadata": {},
   "outputs": [
    {
     "name": "stdout",
     "output_type": "stream",
     "text": [
      "1\n",
      "14\n"
     ]
    }
   ],
   "source": [
    "print(find_min(root))\n",
    "print(find_max(root))"
   ]
  },
  {
   "cell_type": "markdown",
   "metadata": {},
   "source": [
    "delete a node has three situations:\n",
    "- node is at the leave => just remove\n",
    "- node has one child => remove the node and copy the child\n",
    "- node has two children => replace the node with its in order successor (min value of node's right tree)"
   ]
  },
  {
   "cell_type": "code",
   "execution_count": 146,
   "metadata": {},
   "outputs": [],
   "source": [
    "def delete_node(root, key):\n",
    "    \n",
    "    # base case\n",
    "    if not root:\n",
    "        return None\n",
    "    \n",
    "    # step1: traverse to the node, assuming the key in in the tree\n",
    "    if root.val > key:\n",
    "        root.left = delete_node(root.left, key)\n",
    "    \n",
    "    elif root.val < key:\n",
    "        root.right = delete_node(root.right, key)\n",
    "    \n",
    "    # step2: delete\n",
    "    else:\n",
    "        # if the node is at leaves / with one child, just remove\n",
    "        if not root.left:\n",
    "            return root.right\n",
    "        elif not root.right:\n",
    "            return root.left\n",
    "        # if node has two children\n",
    "        else:\n",
    "            root.val = find_min(root.right)\n",
    "            root.right = delete_node(root.right, root.key)\n",
    "            \n",
    "    return root"
   ]
  },
  {
   "cell_type": "code",
   "execution_count": 132,
   "metadata": {},
   "outputs": [
    {
     "name": "stdout",
     "output_type": "stream",
     "text": [
      "-\n",
      "1\n",
      "3\n",
      "6\n",
      "7\n",
      "8\n",
      "10\n",
      "13\n",
      "14\n"
     ]
    }
   ],
   "source": [
    "delete_node(root, 4)\n",
    "print('-')\n",
    "inorder_traverse(root)"
   ]
  },
  {
   "cell_type": "code",
   "execution_count": 133,
   "metadata": {},
   "outputs": [
    {
     "name": "stdout",
     "output_type": "stream",
     "text": [
      "-\n",
      "1\n",
      "3\n",
      "6\n",
      "7\n",
      "8\n",
      "10\n",
      "13\n"
     ]
    }
   ],
   "source": [
    "delete_node(root, 14)\n",
    "print('-')\n",
    "inorder_traverse(root)"
   ]
  },
  {
   "cell_type": "code",
   "execution_count": 134,
   "metadata": {},
   "outputs": [
    {
     "name": "stdout",
     "output_type": "stream",
     "text": [
      "-\n",
      "1\n",
      "3\n",
      "6\n",
      "7\n",
      "8\n",
      "13\n"
     ]
    }
   ],
   "source": [
    "delete_node(root, 8)\n",
    "print('-')\n",
    "inorder_traverse(root)"
   ]
  },
  {
   "cell_type": "code",
   "execution_count": 4,
   "metadata": {},
   "outputs": [],
   "source": [
    "def dfs(tree):\n",
    "    if tree.root is None:\n",
    "        return []\n",
    "    visited, stack = [], [tree.root]\n",
    "    while stack:\n",
    "        node = stack.pop()\n",
    "        visited.append(node)\n",
    "        stack.extend(filter(None, [node.r, node.l]))  \n",
    "        # append right first, so left will be popped first\n",
    "    return visited"
   ]
  },
  {
   "cell_type": "code",
   "execution_count": null,
   "metadata": {},
   "outputs": [],
   "source": []
  }
 ],
 "metadata": {
  "kernelspec": {
   "display_name": "Python 3",
   "language": "python",
   "name": "python3"
  },
  "language_info": {
   "codemirror_mode": {
    "name": "ipython",
    "version": 3
   },
   "file_extension": ".py",
   "mimetype": "text/x-python",
   "name": "python",
   "nbconvert_exporter": "python",
   "pygments_lexer": "ipython3",
   "version": "3.6.6"
  },
  "toc": {
   "base_numbering": 1,
   "nav_menu": {},
   "number_sections": true,
   "sideBar": true,
   "skip_h1_title": false,
   "title_cell": "Table of Contents",
   "title_sidebar": "Contents",
   "toc_cell": false,
   "toc_position": {},
   "toc_section_display": true,
   "toc_window_display": false
  }
 },
 "nbformat": 4,
 "nbformat_minor": 2
}
