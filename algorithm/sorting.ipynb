{
 "cells": [
  {
   "cell_type": "code",
   "execution_count": 368,
   "metadata": {},
   "outputs": [],
   "source": [
    "import functools, time\n",
    "\n",
    "# List to be sort\n",
    "lst = [19,2,31,45,6,11,121,27]\n",
    "\n",
    "# Expect output\n",
    "expect_lst = [2, 6, 11, 19, 27, 31, 45, 121]\n",
    "\n",
    "# Timer\n",
    "def timer(func):\n",
    "    @functools.wraps(func)\n",
    "    def wrapper_timer(*args, **kwargs):\n",
    "        start_time = time.perf_counter()    \n",
    "        value = func(*args, **kwargs)\n",
    "        end_time = time.perf_counter()      \n",
    "        run_time = end_time - start_time    \n",
    "        print(f\"Finished {func.__name__!r} in {run_time:.4f} secs\")\n",
    "        print(\"=\"*10)\n",
    "        return value\n",
    "    return wrapper_timer\n",
    "\n",
    "# Check result\n",
    "def check(func):\n",
    "    @functools.wraps(func)\n",
    "    def wrapper_check(*args, **kwargs):\n",
    "        value = func(*args, **kwargs)\n",
    "        if value == expect_lst:\n",
    "            print(\"Sort successfully\")\n",
    "        else:\n",
    "            print(\"Sort wrongly\\nactual: {}\\nexpect: {}\\nactual:{}\".format(lst, expect_lst, value))\n",
    "        \n",
    "        return value\n",
    "    return wrapper_check"
   ]
  },
  {
   "cell_type": "markdown",
   "metadata": {},
   "source": [
    "## Bubble sort\n",
    "\n",
    "- idea of bubble sort is to swap the order of each pair in the list if the first item is larger than the second item\n",
    "- for each iteraction, largest number will be sent to the last\n",
    "- do not sort items at the end of the list to avoid unnecessary computation"
   ]
  },
  {
   "cell_type": "code",
   "execution_count": 403,
   "metadata": {},
   "outputs": [],
   "source": [
    "@check\n",
    "@timer\n",
    "def bubble_sort(lst):\n",
    "    for iter_num in range(len(lst)-1, 0, -1):\n",
    "        flag = 0\n",
    "        for i in range(iter_num):\n",
    "            if lst[i] > lst[i+1]:\n",
    "                lst[i], lst[i+1] = lst[i+1], lst[i]\n",
    "                flag = 1\n",
    "        if flag == 0:\n",
    "            break\n",
    "    return lst\n",
    "            "
   ]
  },
  {
   "cell_type": "code",
   "execution_count": 404,
   "metadata": {},
   "outputs": [
    {
     "name": "stdout",
     "output_type": "stream",
     "text": [
      "Finished 'bubble_sort' in 0.0000 secs\n",
      "==========\n",
      "Sort successfully\n"
     ]
    },
    {
     "data": {
      "text/plain": [
       "[2, 6, 11, 19, 27, 31, 45, 121]"
      ]
     },
     "execution_count": 404,
     "metadata": {},
     "output_type": "execute_result"
    }
   ],
   "source": [
    "bubble_sort(lst.copy())"
   ]
  },
  {
   "cell_type": "markdown",
   "metadata": {},
   "source": [
    "## Selection sort\n",
    "\n",
    "- find the minimum element from the unsorted list and move it to a sorted list\n",
    "- after moving to the sorted list, find the correct postion of the element in the sorted list"
   ]
  },
  {
   "cell_type": "code",
   "execution_count": 371,
   "metadata": {},
   "outputs": [],
   "source": [
    "@check\n",
    "@timer\n",
    "def selection_sort(lst):\n",
    "    for iter_num in range(len(lst)):\n",
    "        min_idx = iter_num\n",
    "        for i in range(iter_num+1, len(lst)):\n",
    "            if lst[i] < lst[min_idx]:\n",
    "                min_idx = i\n",
    "                \n",
    "        lst[iter_num], lst[min_idx] = lst[min_idx], lst[iter_num]\n",
    "    \n",
    "    return lst"
   ]
  },
  {
   "cell_type": "code",
   "execution_count": 372,
   "metadata": {},
   "outputs": [
    {
     "name": "stdout",
     "output_type": "stream",
     "text": [
      "Finished 'selection_sort' in 0.0000 secs\n",
      "==========\n",
      "Sort successfully\n"
     ]
    },
    {
     "data": {
      "text/plain": [
       "[2, 6, 11, 19, 27, 31, 45, 121]"
      ]
     },
     "execution_count": 372,
     "metadata": {},
     "output_type": "execute_result"
    }
   ],
   "source": [
    "selection_sort(lst.copy())"
   ]
  },
  {
   "cell_type": "markdown",
   "metadata": {},
   "source": [
    "## Insertion sort\n",
    "\n",
    "- sort the sublist and for each iteration, insert the next element into correct sublist postion to 'sort' it"
   ]
  },
  {
   "cell_type": "code",
   "execution_count": 373,
   "metadata": {},
   "outputs": [],
   "source": [
    "@check\n",
    "@timer\n",
    "def insertion_sort(lst):\n",
    "    for i in range(1, len(lst)):\n",
    "        j = i - 1\n",
    "        next_elmt = lst[i]\n",
    "        \n",
    "        while lst[j] > next_elmt and j >= 0:\n",
    "            lst[j], lst[j+1] = lst[j+1], lst[j]\n",
    "            j -= 1\n",
    "        \n",
    "    return lst"
   ]
  },
  {
   "cell_type": "code",
   "execution_count": 374,
   "metadata": {},
   "outputs": [
    {
     "name": "stdout",
     "output_type": "stream",
     "text": [
      "Finished 'insertion_sort' in 0.0000 secs\n",
      "==========\n",
      "Sort successfully\n"
     ]
    },
    {
     "data": {
      "text/plain": [
       "[2, 6, 11, 19, 27, 31, 45, 121]"
      ]
     },
     "execution_count": 374,
     "metadata": {},
     "output_type": "execute_result"
    }
   ],
   "source": [
    "insertion_sort(lst.copy())"
   ]
  },
  {
   "cell_type": "markdown",
   "metadata": {},
   "source": [
    "## Merge sort\n",
    "\n",
    "- merge sort is a recursive divide and conquer algorithm\n",
    "- divide: split the list to half\n",
    "- conquer: merge left and right side"
   ]
  },
  {
   "cell_type": "code",
   "execution_count": 375,
   "metadata": {},
   "outputs": [],
   "source": [
    "def merge(left, right):\n",
    "    \n",
    "    res = []\n",
    "    while len(left) > 0 and len(right) > 0:\n",
    "        left_first = left[0]\n",
    "        right_first = right[0]\n",
    "        \n",
    "        if left_first < right_first:\n",
    "            res.append(left_first)\n",
    "            left = left[1:]\n",
    "        else:\n",
    "            res.append(right_first)\n",
    "            right = right[1:]\n",
    "            \n",
    "    if len(left) == 0:\n",
    "        res += right\n",
    "        \n",
    "    if len(right) == 0:\n",
    "        res += left\n",
    "        \n",
    "    return res\n",
    "\n",
    "def _merge_sort(lst):\n",
    "    if len(lst) <= 1:\n",
    "        return lst\n",
    "    \n",
    "    else:\n",
    "        middle = len(lst) // 2\n",
    "        left = lst[:middle]\n",
    "        right = lst[middle:]\n",
    "        \n",
    "        left = _merge_sort(left)\n",
    "        right = _merge_sort(right)\n",
    "        \n",
    "        return list(merge(left, right))\n",
    "    \n",
    "@check\n",
    "@timer\n",
    "def merge_sort(lst):\n",
    "    return _merge_sort(lst)"
   ]
  },
  {
   "cell_type": "code",
   "execution_count": 376,
   "metadata": {
    "scrolled": false
   },
   "outputs": [
    {
     "name": "stdout",
     "output_type": "stream",
     "text": [
      "Finished 'merge_sort' in 0.0000 secs\n",
      "==========\n",
      "Sort successfully\n"
     ]
    },
    {
     "data": {
      "text/plain": [
       "[2, 6, 11, 19, 27, 31, 45, 121]"
      ]
     },
     "execution_count": 376,
     "metadata": {},
     "output_type": "execute_result"
    }
   ],
   "source": [
    "merge_sort(lst.copy())"
   ]
  },
  {
   "cell_type": "markdown",
   "metadata": {},
   "source": [
    "## Quick sort\n",
    "\n",
    "- quick sort is also a divide and conquer algorithm\n",
    "- find a pivot and put all smaller ones to left and larger ones to right\n",
    "- quick sort is in-place"
   ]
  },
  {
   "cell_type": "code",
   "execution_count": 377,
   "metadata": {},
   "outputs": [],
   "source": [
    "def partition(lst, l, r):\n",
    "    \n",
    "    pivot_val = lst[r]\n",
    "    pivot_idx = l-1\n",
    "    \n",
    "    for i in range(l, r):\n",
    "        if lst[i] <= pivot_val:\n",
    "            pivot_idx += 1\n",
    "            lst[i], lst[pivot_idx] = lst[pivot_idx], lst[i]\n",
    "    lst[pivot_idx+1], lst[r] = lst[r], lst[pivot_idx+1]\n",
    "    return pivot_idx + 1\n",
    "    \n",
    "\n",
    "def _quick_sort(lst, l, r):\n",
    "    if l < r:\n",
    "        p = partition(lst, l, r)\n",
    "        _quick_sort(lst, l, p-1)\n",
    "        _quick_sort(lst, p+1, r)\n",
    "\n",
    "        \n",
    "@check\n",
    "@timer\n",
    "def quick_sort(lst):\n",
    "    _quick_sort(lst, 0, len(lst)-1)\n",
    "    \n",
    "    return lst\n",
    "    "
   ]
  },
  {
   "cell_type": "code",
   "execution_count": 378,
   "metadata": {},
   "outputs": [
    {
     "name": "stdout",
     "output_type": "stream",
     "text": [
      "Finished 'quick_sort' in 0.0000 secs\n",
      "==========\n",
      "Sort successfully\n"
     ]
    },
    {
     "data": {
      "text/plain": [
       "[2, 6, 11, 19, 27, 31, 45, 121]"
      ]
     },
     "execution_count": 378,
     "metadata": {},
     "output_type": "execute_result"
    }
   ],
   "source": [
    "quick_sort(lst.copy())"
   ]
  },
  {
   "cell_type": "markdown",
   "metadata": {},
   "source": [
    "## Comparison"
   ]
  },
  {
   "cell_type": "code",
   "execution_count": 419,
   "metadata": {},
   "outputs": [],
   "source": [
    "import numpy as np\n",
    "\n",
    "lst_test = np.random.randint(low=1, high=100000, size=5000)"
   ]
  },
  {
   "cell_type": "code",
   "execution_count": 420,
   "metadata": {},
   "outputs": [],
   "source": [
    "def compare(lst):\n",
    "    bubble_sort.__wrapped__(lst.copy())\n",
    "    selection_sort.__wrapped__(lst.copy())\n",
    "    insertion_sort.__wrapped__(lst.copy())\n",
    "    merge_sort.__wrapped__(lst.copy())\n",
    "    quick_sort.__wrapped__(lst.copy())"
   ]
  },
  {
   "cell_type": "code",
   "execution_count": 421,
   "metadata": {},
   "outputs": [
    {
     "name": "stdout",
     "output_type": "stream",
     "text": [
      "Finished 'bubble_sort' in 4.2259 secs\n",
      "==========\n",
      "Finished 'selection_sort' in 2.2567 secs\n",
      "==========\n",
      "Finished 'insertion_sort' in 2.7890 secs\n",
      "==========\n",
      "Finished 'merge_sort' in 0.0310 secs\n",
      "==========\n",
      "Finished 'quick_sort' in 0.0203 secs\n",
      "==========\n"
     ]
    }
   ],
   "source": [
    "compare(lst_test)"
   ]
  },
  {
   "cell_type": "markdown",
   "metadata": {},
   "source": [
    "## Summarisation\n",
    "\n",
    "                         Best      Worst\n",
    "    ----------------------------------------\n",
    "    | Bubble Sort    | O(n)     | O(n^2)   |\n",
    "    ----------------------------------------\n",
    "    | Selection Sort | O(n^2)   | O(n^2)   |\n",
    "    ----------------------------------------\n",
    "    | Insertion Sort | O(n)     | O(n^2)   |\n",
    "    ----------------------------------------\n",
    "    | Merge Sort     | O(nlogn) | O(nlogn) |\n",
    "    ----------------------------------------\n",
    "    | Quick Sort     | O(nlogn) | O(n^2)   |\n",
    "    ----------------------------------------"
   ]
  },
  {
   "cell_type": "code",
   "execution_count": null,
   "metadata": {},
   "outputs": [],
   "source": []
  }
 ],
 "metadata": {
  "kernelspec": {
   "display_name": "Python 3",
   "language": "python",
   "name": "python3"
  },
  "language_info": {
   "codemirror_mode": {
    "name": "ipython",
    "version": 3
   },
   "file_extension": ".py",
   "mimetype": "text/x-python",
   "name": "python",
   "nbconvert_exporter": "python",
   "pygments_lexer": "ipython3",
   "version": "3.6.6"
  },
  "toc": {
   "base_numbering": 1,
   "nav_menu": {},
   "number_sections": true,
   "sideBar": true,
   "skip_h1_title": false,
   "title_cell": "Table of Contents",
   "title_sidebar": "Contents",
   "toc_cell": false,
   "toc_position": {},
   "toc_section_display": true,
   "toc_window_display": false
  }
 },
 "nbformat": 4,
 "nbformat_minor": 2
}
