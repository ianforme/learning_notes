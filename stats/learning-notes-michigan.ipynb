{
 "cells": [
  {
   "cell_type": "markdown",
   "metadata": {},
   "source": [
    "# Basic statistics learning notes\n",
    "\n",
    "personal notes for Coursera online course: [Understanding and Visualizing Data with Python](https://www.coursera.org/learn/understanding-visualization-data/home/welcome) by University of Michigan"
   ]
  },
  {
   "cell_type": "markdown",
   "metadata": {},
   "source": [
    "## Visualise and describe data"
   ]
  },
  {
   "cell_type": "markdown",
   "metadata": {},
   "source": [
    "### Histogram\n",
    "\n",
    "- Histogram is used for describing quantitative data, normally when describing a histogram, the following four dimensions should be mentioned\n",
    "    - Shape (symmetric? left skewed? right skewed?)\n",
    "    - Centre (mean & median)\n",
    "    - Range (max - min)\n",
    "    - outliers"
   ]
  },
  {
   "cell_type": "markdown",
   "metadata": {},
   "source": [
    "### Numeric Summary\n",
    "- Another way to describe distribution of the numeric values are using the 5-number summary:\n",
    "    - min\n",
    "    - 1st quantile\n",
    "    - median\n",
    "    - 3rd quantile\n",
    "    - max\n",
    "- Inter-quantile range = 3rd quantile - 1st quantile"
   ]
  },
  {
   "cell_type": "markdown",
   "metadata": {},
   "source": [
    "### Emprical Rule\n",
    "- For bell shaped or normal distribution, 68% of the data will be within (mean - sd, mean + sd) range\n",
    "- 95% of the data will be within (mean - 2sd, mean + 2sd) range\n",
    "- 99.7% of the data will be within (mean - 3sd, mean + 3sd) range"
   ]
  },
  {
   "cell_type": "markdown",
   "metadata": {},
   "source": [
    "### Standard Score / Z-score\n",
    "- Standard score measures how unusual a data is in a distribution\n",
    "- It is computed by using the (value - mean) / sd\n",
    "- Basically, it tells you how many standard deviation the data is away from the mean"
   ]
  },
  {
   "cell_type": "code",
   "execution_count": null,
   "metadata": {
    "collapsed": true
   },
   "outputs": [],
   "source": []
  }
 ],
 "metadata": {
  "kernelspec": {
   "display_name": "Python 3",
   "language": "python",
   "name": "python3"
  },
  "language_info": {
   "codemirror_mode": {
    "name": "ipython",
    "version": 3
   },
   "file_extension": ".py",
   "mimetype": "text/x-python",
   "name": "python",
   "nbconvert_exporter": "python",
   "pygments_lexer": "ipython3",
   "version": "3.6.1"
  }
 },
 "nbformat": 4,
 "nbformat_minor": 2
}
